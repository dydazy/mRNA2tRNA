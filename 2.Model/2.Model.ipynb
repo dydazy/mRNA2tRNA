{
 "cells": [
  {
   "cell_type": "markdown",
   "id": "0474e915-44d1-4d7b-a888-9330f0b5c019",
   "metadata": {},
   "source": [
    "↓↓↓↓ If you do not install the following package, run this."
   ]
  },
  {
   "cell_type": "code",
   "execution_count": null,
   "id": "763387eb-92ab-4ea9-9972-a3388c1f5d15",
   "metadata": {},
   "outputs": [],
   "source": [
    "! pip install pandas\n",
    "! pip install numpy\n",
    "! pip install scipy\n",
    "! pip install matplotlib\n",
    "! pip install sklearn\n",
    "! pip install torch"
   ]
  },
  {
   "cell_type": "code",
   "execution_count": null,
   "id": "147f3108-51f7-4634-b549-4d35d9061edf",
   "metadata": {},
   "outputs": [],
   "source": [
    "import pandas as pd\n",
    "import numpy as np\n",
    "import scipy\n",
    "import matplotlib.pyplot as plt\n",
    "import scipy\n",
    "from scipy.stats import pearsonr,spearmanr\n",
    "import torch\n",
    "import torch.nn as nn\n",
    "import torch.nn.functional as F\n",
    "import matplotlib.pyplot as plt\n",
    "from sklearn.model_selection import train_test_split\n",
    "from torch.utils.data import TensorDataset, DataLoader\n",
    "from sklearn.metrics import roc_auc_score"
   ]
  },
  {
   "cell_type": "markdown",
   "id": "e79fa954-adab-40ee-84e5-8dae22bab2b4",
   "metadata": {},
   "source": [
    "↓↓↓↓ The training set \"tRNA_log2_norm_mRNA_log2_norm.csv\" prepared before was introduced."
   ]
  },
  {
   "cell_type": "code",
   "execution_count": null,
   "id": "c4ea0b13-e250-4574-9b3a-799af4861035",
   "metadata": {},
   "outputs": [],
   "source": [
    "Training_set_path=\"tRNA_log2_norm_mRNA_log2_norm.csv\""
   ]
  },
  {
   "cell_type": "markdown",
   "id": "baef61ed-04dc-4f70-a7bc-47fc4a5a89d0",
   "metadata": {},
   "source": [
    "↓↓↓↓ Please select GPU or CPU use for training"
   ]
  },
  {
   "cell_type": "code",
   "execution_count": null,
   "id": "249a00ab-6c0d-462d-bf66-58f3f313454c",
   "metadata": {},
   "outputs": [],
   "source": [
    "device=\"cpu\""
   ]
  },
  {
   "cell_type": "markdown",
   "id": "4c1660e5-9963-4dc4-aca7-660b5400381f",
   "metadata": {
    "tags": []
   },
   "source": [
    "↓↓↓↓ Please customize the following parameters according to the situation."
   ]
  },
  {
   "cell_type": "code",
   "execution_count": null,
   "id": "007a0fd1-42bc-4711-ab59-71cc4760f092",
   "metadata": {},
   "outputs": [],
   "source": [
    "batch_size=1024\n",
    "Learning_rate=0.001\n",
    "epoch_num=1001"
   ]
  },
  {
   "cell_type": "markdown",
   "id": "c2a698b0-3aa4-40c5-a7dd-c78c8bf93566",
   "metadata": {
    "tags": []
   },
   "source": [
    "↓↓↓↓  Please select the path where the biological information of the M2TRNA network is located."
   ]
  },
  {
   "cell_type": "code",
   "execution_count": null,
   "id": "a520bd86-75c0-4695-a63b-11ae5e8eecfd",
   "metadata": {},
   "outputs": [],
   "source": [
    "##codon bias data\n",
    "codon_usage_path=\"Data/codon_frequece.csv\"\n",
    "\n",
    "##activate data\n",
    "activate_list_path=\"Data/tRNA_activate_list.csv\"\n",
    "\n",
    "##cdslength data\n",
    "cds_length_path=\"Data/cds_length.csv\" \n",
    "\n",
    "##codon_contribute\n",
    "tRNA_codon_path=\"Data/tRNA_codon.csv\""
   ]
  },
  {
   "cell_type": "markdown",
   "id": "842d4c4b-7774-4182-b6e8-cdb4f3092bd1",
   "metadata": {},
   "source": [
    "↓↓↓↓   Data set division：20% test_set, 20% validate, 60% train_set"
   ]
  },
  {
   "cell_type": "markdown",
   "id": "6301e378-3150-431f-8b92-07b05955dc2d",
   "metadata": {
    "tags": []
   },
   "source": [
    "↓↓↓↓  Introduction and sorting of biological information."
   ]
  },
  {
   "cell_type": "code",
   "execution_count": null,
   "id": "f9858002-13c1-4ee8-aa78-99bc1356d6b4",
   "metadata": {},
   "outputs": [],
   "source": [
    "df =  pd.read_csv(Training_set_path,index_col='gene_id')\n",
    "X = df.iloc[429:df.shape[0], :]\n",
    "Y = df.iloc[0:429, :]\n",
    "X_train_index, X_test_validate_index, y_train_index, y_test_validate_index = train_test_split(X.columns.to_list(), Y.columns.to_list(), test_size=0.4, random_state=40)\n",
    "X_validate_index, X_test_index, y_validate_index, y_test_index = train_test_split(X_test_validate_index, y_test_validate_index, test_size = 0.5, random_state = 40)\n",
    "X = df.iloc[429:df.shape[0], :].values.T\n",
    "Y = df.iloc[0:429, :].values.T\n",
    "feature_index=df.index[429:len(df)].tolist()\n",
    "X_train, X_test_validate, y_train, y_test_validate = train_test_split(X, Y, test_size=0.4, random_state=40)\n",
    "X_validate, X_test, y_validate, y_test = train_test_split(X_test_validate, y_test_validate, test_size = 0.5, random_state = 40)\n",
    "X_train = torch.tensor(X_train, dtype=torch.float32).to(device)\n",
    "y_train = torch.tensor(y_train, dtype=torch.float32).to(device)\n",
    "X_test = torch.tensor(X_test, dtype=torch.float32).to(device)\n",
    "y_test = torch.tensor(y_test, dtype=torch.float32).to(device)\n",
    "X_validate=torch.tensor(X_validate, dtype=torch.float32).to(device)\n",
    "y_validate=torch.tensor(y_validate, dtype=torch.float32).to(device)\n",
    "train_data = TensorDataset(X_train, y_train)\n",
    "train_loader = DataLoader(train_data, batch_size=batch_size, shuffle=True)\n",
    "test_data = TensorDataset(X_test, y_test)\n",
    "test_loader = DataLoader(test_data, batch_size=batch_size, shuffle=True)\n",
    "\n",
    "codon_usage_data=pd.read_csv(codon_usage_path,index_col='gene_id')\n",
    "codon_usage=codon_usage_data.loc[df.iloc[429:df.shape[0], 0:1].index]\n",
    "codon_usage = torch.from_numpy(codon_usage.values).to(device)\n",
    "codon_usage=codon_usage.to(torch.float32)\n",
    "\n",
    "activate_list_data=pd.read_csv(activate_list_path,index_col='gene_id')\n",
    "activate_list=activate_list_data.loc[df.iloc[0:429, 0:1].index]\n",
    "activate_list = torch.from_numpy(activate_list.values).to(device)\n",
    "activate_list=activate_list.to(torch.float32)\n",
    "\n",
    "cds_length_data=pd.read_csv(cds_length_path,index_col='gene_id')\n",
    "cds_length=cds_length_data.loc[df.iloc[429:df.shape[0], 0:1].index]\n",
    "cds_length = torch.from_numpy(cds_length.values).to(device)\n",
    "cds_length=cds_length.to(torch.float32)\n",
    "\n",
    "tRNA_codon_data=pd.read_csv(tRNA_codon_path,index_col='gene_id')\n",
    "tRNA_codon=tRNA_codon_data.loc[df.iloc[0:429, 0:1].index]\n",
    "tRNA_codon=tRNA_codon.T.loc[codon_usage_data.T.index].T\n",
    "tRNA_codon = torch.from_numpy(tRNA_codon.values).to(device)\n",
    "tRNA_codon=tRNA_codon.to(torch.float32).T"
   ]
  },
  {
   "cell_type": "markdown",
   "id": "0e87ab7a-1889-4cfb-b110-7dfeb6e1a63f",
   "metadata": {},
   "source": [
    "↓↓↓↓ The functions defined in advance include functions  used to integrate the information of the codon, and loss functions ."
   ]
  },
  {
   "cell_type": "code",
   "execution_count": null,
   "id": "8f237a47-18a1-42f3-b7b4-97366fffaa6a",
   "metadata": {},
   "outputs": [],
   "source": [
    "##codon_frequence\n",
    "def codon_bias(read_counts):\n",
    "    if read_counts.dim()==1:\n",
    "        read_counts=read_counts.flatten().unsqueeze(0)\n",
    "    x=torch.einsum('ij,jk->ijk',read_counts,codon_usage)\n",
    "    return x\n",
    "\n",
    "##cds_length,codon_frequence\n",
    "def codon_bias_length(read_counts):\n",
    "    if read_counts.dim()==1:\n",
    "        seq_pool=read_counts.flatten()*cds_length.flatten()\n",
    "        seq_pool=seq_pool.unsqueeze(0)\n",
    "        x=torch.einsum('ij,jk->ijk',seq_pool,codon_usage)\n",
    "    else:\n",
    "        seq_pool=torch.einsum('ij,jk->ijk', cds_length.T,codon_usage).squeeze()\n",
    "        x=torch.einsum('ij,jk->ijk',read_counts,seq_pool)\n",
    "    return x\n",
    "\n",
    "##pearson_correlation_loss\n",
    "def pearson_correlation_loss(x, y):\n",
    "    x_mean = torch.mean(x, dim=1, keepdim=True)\n",
    "    y_mean = torch.mean(y, dim=1, keepdim=True)\n",
    "    x_std = torch.std(x, dim=1, keepdim=True)\n",
    "    y_std = torch.std(y, dim=1, keepdim=True)\n",
    "    n = x.size(1)\n",
    "    vx = x - x_mean\n",
    "    vy = y - y_mean\n",
    "    loss = 1-torch.mean(torch.sum(vx * vy, dim=1) / (n * x_std * y_std))\n",
    "    return loss"
   ]
  },
  {
   "cell_type": "markdown",
   "id": "c51e0ef0-1687-4a65-a2fd-3451d6f8afa5",
   "metadata": {},
   "source": [
    "m2tRNA net"
   ]
  },
  {
   "cell_type": "code",
   "execution_count": null,
   "id": "e4e980c5-d8db-43c6-9349-9909fcf0e4c7",
   "metadata": {},
   "outputs": [],
   "source": [
    "class m2tRNA(nn.Module):\n",
    "    def __init__(self):\n",
    "        super(m2tRNA, self).__init__()\n",
    "        self.fc1 = nn.Linear(df.shape[0]-429, 429) \n",
    "        self.fc5 = nn.Linear(64, 429)\n",
    "        self.act = nn.LeakyReLU(negative_slope=0.01)\n",
    "    def forward(self, x):\n",
    "        x1 = self.fc1(torch.transpose(x, 1, 2))\n",
    "        x_cat = self.act((x1))\n",
    "        x_cat=x_cat*tRNA_codon\n",
    "        x_cat = self.act(self.fc5(torch.transpose(x_cat, 1, 2))) \n",
    "        x_cat = x_cat*activate_list\n",
    "        x7=F.relu(self.act(x_cat.mean(2)))\n",
    "        x7=torch.squeeze(x7)\n",
    "        return x7\n",
    "net1 = m2tRNA().to(device)"
   ]
  },
  {
   "cell_type": "markdown",
   "id": "6e708726-f8f7-482d-bd27-db41d2fe71b2",
   "metadata": {
    "tags": []
   },
   "source": [
    "↓↓↓↓   Run this without introducing gene length"
   ]
  },
  {
   "cell_type": "code",
   "execution_count": null,
   "id": "3fee1180-df54-4c0f-808b-1c8a992c0d3e",
   "metadata": {},
   "outputs": [],
   "source": [
    "criterion1 = nn.SmoothL1Loss()\n",
    "optimizer1 = torch.optim.Adam(net1.parameters(), lr=Learning_rate)\n",
    "train_losses=[]\n",
    "test_losses=[]\n",
    "for epoch in range(epoch_num):\n",
    "    train_loss = 0.0   \n",
    "    for i, data in enumerate(train_loader, 0):\n",
    "        #net1.train()\n",
    "        inputs, labels = data\n",
    "        optimizer1.zero_grad()\n",
    "        outputs = net1(codon_bias(inputs))\n",
    "        train_loss_1 = criterion1(outputs, labels)\n",
    "        train_loss_2 = criterion1(torch.sort(outputs)[1].float(), torch.sort(labels)[1].float())\n",
    "        train_loss_3 = pearson_correlation_loss(outputs, labels)\n",
    "        loss1=train_loss_1*100+train_loss_2+train_loss_3*100\n",
    "        loss1.backward()\n",
    "        optimizer1.step()\n",
    "        x_1=train_loss_1.item()\n",
    "        x_2=train_loss_2.item()\n",
    "        x_3=train_loss_3.item()\n",
    "        train_loss =train_loss+ train_loss_1.item()*100+train_loss_2.item()+train_loss_3.item()*100\n",
    "    mean_train_loss =train_loss / (len(train_loader) * batch_size)\n",
    "    train_losses.append(mean_train_loss)\n",
    "    \n",
    "    test_loss=0\n",
    "    with torch.no_grad():\n",
    "        net1.eval()\n",
    "        for i, data in enumerate(test_loader, 0):\n",
    "            test_inputs, test_labels = data\n",
    "            test_pridect = net1(codon_bias(test_inputs))\n",
    "            test_loss_1 = criterion1(test_pridect, test_labels)\n",
    "            test_loss_2 = criterion1(torch.sort(test_pridect)[1].float(), torch.sort(test_labels)[1].float())\n",
    "            test_loss_3 = pearson_correlation_loss(test_pridect, test_labels)\n",
    "            y_1=test_loss_1.item()\n",
    "            y_2=test_loss_2.item()\n",
    "            y_3=test_loss_3.item()\n",
    "            test_loss = test_loss+ test_loss_1.item()*100+ test_loss_2.item()+test_loss_3.item()*100\n",
    "        mean_test_loss=test_loss / (len(test_loader) * batch_size)\n",
    "        test_losses.append(mean_test_loss)\n",
    "    \n",
    "    if epoch%10 ==0:\n",
    "        print('[epoch == %d],Train loss: %.3f, SmoothL1Loss: %.3f, SmoothL1Loss_rank: %.3f, pearson_correlation_loss: %.3f' % (epoch,mean_train_loss,x_1,x_2,x_3))\n",
    "        print('[epoch == %d],Test loss: %.3f,SmoothL1Loss: %.3f, SmoothL1Loss_rank: %.3f, pearson_correlation_loss: %.3f' % (epoch,mean_test_loss,y_1,y_2,y_3)\n",
    "              \n",
    "    if epoch == epoch_num:\n",
    "        ttloss=pd.DataFrame()\n",
    "        ttloss[\"train_losses\"]=train_losses\n",
    "        ttloss[\"test_losses\"]=test_losses\n",
    "        ttloss.to_csv(\"m2tRNA_\"+str(epoch)+\"_loss.csv\")\n",
    "        torch.save(net1, \"m2tRNA_\"+str(epoch)+\".pkl\")\n",
    "        plt.plot(test_losses[0:len(test_losses)-1], label=\"Test Loss\",alpha=0.5)\n",
    "        plt.plot(train_losses[1:len(train_losses)], label=\"Train Loss\",alpha=1)\n",
    "        plt.legend()\n",
    "        plt.savefig('m2tRNA_'+str(epoch)+'_loss.jpg', dpi=600)\n",
    "        plt.close()"
   ]
  },
  {
   "cell_type": "markdown",
   "id": "bf503316-dfff-418a-b7b6-e7fef49078b6",
   "metadata": {},
   "source": [
    "↓↓↓↓  Run this introducing gene length"
   ]
  },
  {
   "cell_type": "code",
   "execution_count": null,
   "id": "068dabea-10ca-4df4-b271-2b0157f59587",
   "metadata": {},
   "outputs": [],
   "source": [
    "criterion1 = nn.SmoothL1Loss()\n",
    "optimizer1 = torch.optim.Adam(net1.parameters(), lr=Learning_rate)\n",
    "train_losses=[]\n",
    "test_losses=[]\n",
    "for epoch in range(epoch_num):\n",
    "    train_loss = 0.0   \n",
    "    for i, data in enumerate(train_loader, 0):\n",
    "        #net1.train()\n",
    "        inputs, labels = data\n",
    "        optimizer1.zero_grad()\n",
    "        outputs = net1(codon_bias_length(inputs))\n",
    "        train_loss_1 = criterion1(outputs, labels)\n",
    "        train_loss_2 = criterion1(torch.sort(outputs)[1].float(), torch.sort(labels)[1].float())\n",
    "        train_loss_3 = pearson_correlation_loss(outputs, labels)\n",
    "        loss1=train_loss_1*100+train_loss_2+train_loss_3*100\n",
    "        loss1.backward()\n",
    "        optimizer1.step()\n",
    "        x_1=train_loss_1.item()\n",
    "        x_2=train_loss_2.item()\n",
    "        x_3=train_loss_3.item()\n",
    "        train_loss =train_loss+ train_loss_1.item()*100+train_loss_2.item()+train_loss_3.item()*100\n",
    "    mean_train_loss =train_loss / (len(train_loader) * batch_size)\n",
    "    train_losses.append(mean_train_loss)\n",
    "    \n",
    "    test_loss=0\n",
    "    with torch.no_grad():\n",
    "        net1.eval()\n",
    "        for i, data in enumerate(test_loader, 0):\n",
    "            test_inputs, test_labels = data\n",
    "            test_pridect = net1(codon_bias_length(test_inputs))\n",
    "            test_loss_1 = criterion1(test_pridect, test_labels)\n",
    "            test_loss_2 = criterion1(torch.sort(test_pridect)[1].float(), torch.sort(test_labels)[1].float())\n",
    "            test_loss_3 = pearson_correlation_loss(test_pridect, test_labels)\n",
    "            y_1=test_loss_1.item()\n",
    "            y_2=test_loss_2.item()\n",
    "            y_3=test_loss_3.item()\n",
    "            test_loss = test_loss+ test_loss_1.item()*100+ test_loss_2.item()+test_loss_3.item()*100\n",
    "        mean_test_loss=test_loss / (len(test_loader) * batch_size)\n",
    "        test_losses.append(mean_test_loss)\n",
    "    \n",
    "    if epoch%10 ==0:\n",
    "        print('[epoch == %d],Train loss: %.3f, SmoothL1Loss: %.3f, SmoothL1Loss_rank: %.3f, pearson_correlation_loss: %.3f' % (epoch,mean_train_loss,x_1,x_2,x_3))\n",
    "        print('[epoch == %d],Test loss: %.3f,SmoothL1Loss: %.3f, SmoothL1Loss_rank: %.3f, pearson_correlation_loss: %.3f' % (epoch,mean_test_loss,y_1,y_2,y_3)\n",
    "              \n",
    "    if epoch == epoch_num:\n",
    "        ttloss=pd.DataFrame()\n",
    "        ttloss[\"train_losses\"]=train_losses\n",
    "        ttloss[\"test_losses\"]=test_losses\n",
    "        ttloss.to_csv(\"m2tRNA_\"+str(epoch)+\"_loss.csv\")\n",
    "        torch.save(net1, \"m2tRNA_\"+str(epoch)+\".pkl\")\n",
    "        plt.plot(test_losses[0:len(test_losses)-1], label=\"Test Loss\",alpha=0.5)\n",
    "        plt.plot(train_losses[1:len(train_losses)], label=\"Train Loss\",alpha=1)\n",
    "        plt.legend()\n",
    "        plt.savefig('m2tRNA_'+str(epoch)+'_loss.jpg', dpi=600)\n",
    "        plt.close()"
   ]
  }
 ],
 "metadata": {
  "kernelspec": {
   "display_name": "Python 3 (ipykernel)",
   "language": "python",
   "name": "python3"
  },
  "language_info": {
   "codemirror_mode": {
    "name": "ipython",
    "version": 3
   },
   "file_extension": ".py",
   "mimetype": "text/x-python",
   "name": "python",
   "nbconvert_exporter": "python",
   "pygments_lexer": "ipython3",
   "version": "3.8.0"
  }
 },
 "nbformat": 4,
 "nbformat_minor": 5
}
