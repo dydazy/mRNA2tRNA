{
 "cells": [
  {
   "cell_type": "markdown",
   "id": "de0a806f-268a-489f-9ad9-9f4621858f78",
   "metadata": {},
   "source": [
    "# This .ipynb code is used for data set generation and processing"
   ]
  },
  {
   "cell_type": "markdown",
   "id": "f619317e-17f5-43c3-9d7c-b4f28d2b8059",
   "metadata": {},
   "source": [
    "## Data set generation"
   ]
  },
  {
   "cell_type": "markdown",
   "id": "0c314885-cda6-4939-ab86-d69382251636",
   "metadata": {},
   "source": [
    "It is recommended to run the code below in Juterlab"
   ]
  },
  {
   "cell_type": "markdown",
   "id": "d868c390-7f10-488b-950a-dcc6c33093a4",
   "metadata": {},
   "source": [
    "#Due to the file upload limit on GitHub, we split the training data into rows with a size of 25MB.               \n",
    "#The first 429 rows of the synthesized data frame are tRNA expression data, and the subsequent data is mRNA data.                \n",
    "#The division code is shown below:"
   ]
  },
  {
   "cell_type": "code",
   "execution_count": null,
   "id": "a2650e50-037d-4914-a303-9ced8268f6a5",
   "metadata": {},
   "outputs": [],
   "source": [
    "import os\n",
    "import pandas as pd\n",
    "\n",
    "def split_csv_file(file_path, chunk_size=24*1024*1024, output_dir='Rawdata_tRNA_mRNA'):\n",
    "    if not os.path.exists(output_dir):\n",
    "        os.makedirs(output_dir)\n",
    "    with open(file_path, 'r') as file:\n",
    "        header = file.readline()\n",
    "        part_num = 1\n",
    "        while True:\n",
    "            current_chunk = file.read(chunk_size)\n",
    "            if not current_chunk:\n",
    "                break\n",
    "            output_file_path = os.path.join(output_dir, f'Rawdata_tRNA_mRNA_{part_num}.csv')\n",
    "            with open(output_file_path, 'w') as output_file:\n",
    "                output_file.write(header)\n",
    "                output_file.write(current_chunk)\n",
    "            part_num += 1\n",
    "split_csv_file(\"Rawdata_tRNA_mRNA.csv\")"
   ]
  },
  {
   "cell_type": "markdown",
   "id": "08bf97b0-5768-4645-b449-54476ab6adfa",
   "metadata": {},
   "source": [
    "##########      \n",
    "By running the code below, you can merge the data to obtain the complete training data.               \n",
    "↓↓↓↓↓↓↓↓↓↓↓↓↓↓↓↓↓↓↓↓                \n",
    "↓↓↓↓↓↓↓↓↓↓↓↓↓↓↓↓↓↓↓↓                 "
   ]
  },
  {
   "cell_type": "code",
   "execution_count": 4,
   "id": "9c3a6395-63c3-4111-9876-7d191ee9ae8c",
   "metadata": {},
   "outputs": [],
   "source": [
    "import os\n",
    "import pandas as pd\n",
    "\n",
    "def merge_csv_files(input_dir, output_file_path):\n",
    "    files = sorted(os.listdir(input_dir))\n",
    "    with open(output_file_path, 'w') as output_file:\n",
    "        for i, file_name in enumerate(files):\n",
    "            file_path = os.path.join(input_dir, file_name)\n",
    "            with open(file_path, 'r') as file:\n",
    "                if i == 0:\n",
    "                    output_file.write(file.read())\n",
    "                else:\n",
    "                    file.readline()\n",
    "                    output_file.write(file.read())\n",
    "merge_csv_files(\"Rawdata_tRNA_mRNA\", \"Rawdata_tRNA_mRNA_1.csv\")"
   ]
  },
  {
   "cell_type": "markdown",
   "id": "d057db8a-06f9-4d84-ab6f-679a9d314ebf",
   "metadata": {},
   "source": [
    "get \"Rawdata_tRNA_mRNA.csv\"            \n",
    "↑↑↑                  \n",
    "Among \"Rawdata_tRNA_mRNA.csv\", the first 429 rows are tRNA expression data, which comes from tRend. The subsequent data is mRNA expression data, which comes from TCGA."
   ]
  },
  {
   "cell_type": "markdown",
   "id": "99a826f8-8482-40ac-ab73-c0194a1e2f68",
   "metadata": {},
   "source": [
    "## Data set processing"
   ]
  },
  {
   "cell_type": "markdown",
   "id": "f634bb1c-924a-425f-a9ad-7cdba5f3cbfb",
   "metadata": {},
   "source": [
    "The data obtained above is raw data. You can choose the method of interest to standardize the data. ↑          \n",
    "Here are two standardization methods that do not affect the prediction results. ↓             \n",
    "In application, we strongly recommend the first standardization method.↓"
   ]
  },
  {
   "cell_type": "markdown",
   "id": "dfd903dd-0b2c-40ee-a150-4924d96491c3",
   "metadata": {},
   "source": [
    "####### tRNA,log2.           \n",
    "####### mRNA,rank."
   ]
  },
  {
   "cell_type": "code",
   "execution_count": 15,
   "id": "d3c731ea-a514-48b4-bdfe-21c0d5abe827",
   "metadata": {},
   "outputs": [],
   "source": [
    "import pandas as pd\n",
    "import numpy as np\n",
    "from sklearn.preprocessing import MinMaxScaler\n",
    "df = pd.read_csv('Rawdata_tRNA_mRNA.csv',index_col='gene_id')\n",
    "tRNA=df.iloc[0:429,:]\n",
    "mRNA_rank=df.iloc[429:df.shape[0],:].rank()\n",
    "\n",
    "tRNA_log2=tRNA.applymap(lambda x: np.log2(x+1))\n",
    "\n",
    "normalized_data=pd.DataFrame()\n",
    "normalized_data=pd.concat([tRNA_log2,mRNA_rank])\n",
    "\n",
    "normalized_data = pd.DataFrame(normalized_data, columns=df.columns)\n",
    "normalized_data['gene_id']=df.index.values\n",
    "normalized_data.set_index('gene_id',inplace=True)\n",
    "normalized_data.to_csv(\"tRNA_log2_mRNA_rank.csv\",index=True)"
   ]
  },
  {
   "cell_type": "markdown",
   "id": "f80ca4ab-8de3-4ad9-b49b-dc965db8d667",
   "metadata": {},
   "source": [
    "####### tRNA,log2,norm.    \n",
    "####### mRNA,log2,norm."
   ]
  },
  {
   "cell_type": "code",
   "execution_count": null,
   "id": "de562fcd-5155-4267-9860-354e9edcc5e8",
   "metadata": {},
   "outputs": [],
   "source": [
    "import pandas as pd\n",
    "import numpy as np\n",
    "from sklearn.preprocessing import MinMaxScaler\n",
    "df = pd.read_csv('Rawdata_tRNA_mRNA.csv',index_col='gene_id')\n",
    "tRNA=df.iloc[0:429,:]\n",
    "mRNA=df.iloc[429:df.shape[0],:]\n",
    "tRNA_log2=tRNA.applymap(lambda x: np.log2(x+1))\n",
    "scaler = MinMaxScaler(feature_range=(0, 10000))\n",
    "tRNA_log2_norm = scaler.fit_transform(tRNA_log2)\n",
    "tRNA_log2_norm  = pd.DataFrame(tRNA_log2_norm , columns=tRNA.columns)\n",
    "mRNA_log2=mRNA.applymap(lambda x: np.log2(x))\n",
    "mRNA_log2_norm = scaler.fit_transform(mRNA_log2)\n",
    "mRNA_log2_norm  = pd.DataFrame(mRNA_log2_norm , columns=mRNA.columns)\n",
    "normalized_data=pd.DataFrame()\n",
    "normalized_data=pd.concat([tRNA_log2_norm,mRNA_log2_norm])\n",
    "normalized_data = pd.DataFrame(normalized_data, columns=df.columns)\n",
    "normalized_data['gene_id']=df.index.values\n",
    "normalized_data.set_index('gene_id',inplace=True)\n",
    "normalized_data.to_csv(\"tRNA_log2_norm_mRNA_log2_norm.csv\",index=True)"
   ]
  }
 ],
 "metadata": {
  "kernelspec": {
   "display_name": "Python 3 (ipykernel)",
   "language": "python",
   "name": "python3"
  },
  "language_info": {
   "codemirror_mode": {
    "name": "ipython",
    "version": 3
   },
   "file_extension": ".py",
   "mimetype": "text/x-python",
   "name": "python",
   "nbconvert_exporter": "python",
   "pygments_lexer": "ipython3",
   "version": "3.8.3"
  }
 },
 "nbformat": 4,
 "nbformat_minor": 5
}
